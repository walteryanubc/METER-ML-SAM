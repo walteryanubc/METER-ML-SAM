{
 "cells": [
  {
   "cell_type": "markdown",
   "id": "a08402ae-fd3f-4926-b565-7d361e2375ac",
   "metadata": {
    "tags": []
   },
   "source": [
    "# 01 Prepare Training Datasets"
   ]
  },
  {
   "cell_type": "markdown",
   "id": "ed0d36aa-66c9-4fef-9958-5ce91ddcde12",
   "metadata": {
    "tags": []
   },
   "source": [
    "## Set up Modelling Environment"
   ]
  },
  {
   "cell_type": "code",
   "execution_count": 1,
   "id": "a05cf144-543f-4e02-bd86-fa34164856cc",
   "metadata": {},
   "outputs": [
    {
     "name": "stdout",
     "output_type": "stream",
     "text": [
      "Collecting rasterio\n",
      "  Using cached rasterio-1.2.10-cp37-cp37m-manylinux1_x86_64.whl (19.3 MB)\n",
      "Collecting affine (from rasterio)\n",
      "  Using cached affine-2.4.0-py3-none-any.whl (15 kB)\n",
      "Requirement already satisfied: attrs in /opt/conda/lib/python3.7/site-packages (from rasterio) (23.1.0)\n",
      "Requirement already satisfied: certifi in /opt/conda/lib/python3.7/site-packages (from rasterio) (2023.7.22)\n",
      "Requirement already satisfied: click>=4.0 in /opt/conda/lib/python3.7/site-packages (from rasterio) (8.1.6)\n",
      "Collecting cligj>=0.5 (from rasterio)\n",
      "  Using cached cligj-0.7.2-py3-none-any.whl (7.1 kB)\n",
      "Requirement already satisfied: numpy in /opt/conda/lib/python3.7/site-packages (from rasterio) (1.21.6)\n",
      "Collecting snuggs>=1.4.1 (from rasterio)\n",
      "  Using cached snuggs-1.4.7-py3-none-any.whl (5.4 kB)\n",
      "Collecting click-plugins (from rasterio)\n",
      "  Using cached click_plugins-1.1.1-py2.py3-none-any.whl (7.5 kB)\n",
      "Requirement already satisfied: setuptools in /opt/conda/lib/python3.7/site-packages (from rasterio) (68.0.0)\n",
      "Requirement already satisfied: importlib-metadata in /opt/conda/lib/python3.7/site-packages (from click>=4.0->rasterio) (4.11.4)\n",
      "Requirement already satisfied: pyparsing>=2.1.6 in /opt/conda/lib/python3.7/site-packages (from snuggs>=1.4.1->rasterio) (3.1.1)\n",
      "Requirement already satisfied: zipp>=0.5 in /opt/conda/lib/python3.7/site-packages (from importlib-metadata->click>=4.0->rasterio) (3.15.0)\n",
      "Requirement already satisfied: typing-extensions>=3.6.4 in /opt/conda/lib/python3.7/site-packages (from importlib-metadata->click>=4.0->rasterio) (4.7.1)\n",
      "Installing collected packages: snuggs, affine, cligj, click-plugins, rasterio\n",
      "Successfully installed affine-2.4.0 click-plugins-1.1.1 cligj-0.7.2 rasterio-1.2.10 snuggs-1.4.7\n",
      "Note: you may need to restart the kernel to use updated packages.\n",
      "Collecting geopandas\n",
      "  Using cached geopandas-0.10.2-py2.py3-none-any.whl (1.0 MB)\n",
      "Requirement already satisfied: pandas>=0.25.0 in /opt/conda/lib/python3.7/site-packages (from geopandas) (1.3.5)\n",
      "Requirement already satisfied: shapely>=1.6 in /opt/conda/lib/python3.7/site-packages (from geopandas) (1.8.5.post1)\n",
      "Collecting fiona>=1.8 (from geopandas)\n",
      "  Obtaining dependency information for fiona>=1.8 from https://files.pythonhosted.org/packages/22/51/c6b4c2ed21a5e390730a6d5cd926009bfe02b4f27c352b069d514a5bb70e/fiona-1.9.5-cp37-cp37m-manylinux2014_x86_64.whl.metadata\n",
      "  Using cached fiona-1.9.5-cp37-cp37m-manylinux2014_x86_64.whl.metadata (49 kB)\n",
      "Collecting pyproj>=2.2.0 (from geopandas)\n",
      "  Using cached pyproj-3.2.1-cp37-cp37m-manylinux2010_x86_64.whl (6.3 MB)\n",
      "Requirement already satisfied: attrs>=19.2.0 in /opt/conda/lib/python3.7/site-packages (from fiona>=1.8->geopandas) (23.1.0)\n",
      "Requirement already satisfied: certifi in /opt/conda/lib/python3.7/site-packages (from fiona>=1.8->geopandas) (2023.7.22)\n",
      "Requirement already satisfied: click~=8.0 in /opt/conda/lib/python3.7/site-packages (from fiona>=1.8->geopandas) (8.1.6)\n",
      "Requirement already satisfied: click-plugins>=1.0 in /opt/conda/lib/python3.7/site-packages (from fiona>=1.8->geopandas) (1.1.1)\n",
      "Requirement already satisfied: cligj>=0.5 in /opt/conda/lib/python3.7/site-packages (from fiona>=1.8->geopandas) (0.7.2)\n",
      "Requirement already satisfied: six in /opt/conda/lib/python3.7/site-packages (from fiona>=1.8->geopandas) (1.16.0)\n",
      "Requirement already satisfied: setuptools in /opt/conda/lib/python3.7/site-packages (from fiona>=1.8->geopandas) (68.0.0)\n",
      "Requirement already satisfied: importlib-metadata in /opt/conda/lib/python3.7/site-packages (from fiona>=1.8->geopandas) (4.11.4)\n",
      "Requirement already satisfied: python-dateutil>=2.7.3 in /opt/conda/lib/python3.7/site-packages (from pandas>=0.25.0->geopandas) (2.8.2)\n",
      "Requirement already satisfied: pytz>=2017.3 in /opt/conda/lib/python3.7/site-packages (from pandas>=0.25.0->geopandas) (2023.3)\n",
      "Requirement already satisfied: numpy>=1.17.3 in /opt/conda/lib/python3.7/site-packages (from pandas>=0.25.0->geopandas) (1.21.6)\n",
      "Requirement already satisfied: zipp>=0.5 in /opt/conda/lib/python3.7/site-packages (from importlib-metadata->fiona>=1.8->geopandas) (3.15.0)\n",
      "Requirement already satisfied: typing-extensions>=3.6.4 in /opt/conda/lib/python3.7/site-packages (from importlib-metadata->fiona>=1.8->geopandas) (4.7.1)\n",
      "Using cached fiona-1.9.5-cp37-cp37m-manylinux2014_x86_64.whl (15.6 MB)\n",
      "Installing collected packages: pyproj, fiona, geopandas\n",
      "Successfully installed fiona-1.9.5 geopandas-0.10.2 pyproj-3.2.1\n",
      "Note: you may need to restart the kernel to use updated packages.\n"
     ]
    }
   ],
   "source": [
    "%pip install rasterio\n",
    "%pip install geopandas"
   ]
  },
  {
   "cell_type": "code",
   "execution_count": 2,
   "id": "6630de7c-60b9-4563-bd6c-5ec27192ad53",
   "metadata": {},
   "outputs": [],
   "source": [
    "import os\n",
    "import json\n",
    "import math\n",
    "import rasterio\n",
    "import pandas as pd\n",
    "import numpy as np\n",
    "import geopandas as gpd\n",
    "import os"
   ]
  },
  {
   "cell_type": "markdown",
   "id": "3385ca4e-1726-4e5d-9890-b48df1f7b96f",
   "metadata": {
    "tags": []
   },
   "source": [
    "## Input Big Query data and select test dataset"
   ]
  },
  {
   "cell_type": "code",
   "execution_count": 3,
   "id": "8f48bd2d-7b3a-4f8b-9128-c0af3e320526",
   "metadata": {},
   "outputs": [],
   "source": [
    "# The following two lines are only necessary to run once.\n",
    "# Comment out otherwise for speed-up.\n",
    "from google.cloud.bigquery import Client, QueryJobConfig\n",
    "client = Client()\n",
    "\n",
    "query = \"\"\"SELECT * FROM `imposing-mind-398223.meterdataset.landfill`\"\"\"\n",
    "job = client.query(query)\n",
    "df = job.to_dataframe()"
   ]
  },
  {
   "cell_type": "code",
   "execution_count": 4,
   "id": "23363622-db14-4ac6-9e59-dbf5d54222c6",
   "metadata": {},
   "outputs": [
    {
     "data": {
      "text/html": [
       "<div>\n",
       "<style scoped>\n",
       "    .dataframe tbody tr th:only-of-type {\n",
       "        vertical-align: middle;\n",
       "    }\n",
       "\n",
       "    .dataframe tbody tr th {\n",
       "        vertical-align: top;\n",
       "    }\n",
       "\n",
       "    .dataframe thead th {\n",
       "        text-align: right;\n",
       "    }\n",
       "</style>\n",
       "<table border=\"1\" class=\"dataframe\">\n",
       "  <thead>\n",
       "    <tr style=\"text-align: right;\">\n",
       "      <th></th>\n",
       "      <th>keyID</th>\n",
       "      <th>geography</th>\n",
       "      <th>SourceReference</th>\n",
       "      <th>SL</th>\n",
       "      <th>Facility</th>\n",
       "      <th>Source</th>\n",
       "      <th>City</th>\n",
       "      <th>State</th>\n",
       "      <th>Country</th>\n",
       "      <th>Region</th>\n",
       "      <th>geometry</th>\n",
       "    </tr>\n",
       "  </thead>\n",
       "  <tbody>\n",
       "    <tr>\n",
       "      <th>0</th>\n",
       "      <td>189880</td>\n",
       "      <td>{\"coordinates\":[[[100.4982959,41.0905891],[100...</td>\n",
       "      <td>Open Street Map (downloaded by Michael: 101_os...</td>\n",
       "      <td>https://planet.openstreetmap.org/</td>\n",
       "      <td>Landfills</td>\n",
       "      <td>Landfill_011_OSMv1</td>\n",
       "      <td></td>\n",
       "      <td></td>\n",
       "      <td></td>\n",
       "      <td></td>\n",
       "      <td>POINT(100.493678727011 41.0947383664426)</td>\n",
       "    </tr>\n",
       "    <tr>\n",
       "      <th>1</th>\n",
       "      <td>181798</td>\n",
       "      <td>{\"coordinates\":[[[-127.1405641,59.641265],[-12...</td>\n",
       "      <td>Open Street Map (downloaded by Michael: 101_os...</td>\n",
       "      <td>https://planet.openstreetmap.org/</td>\n",
       "      <td>Landfills</td>\n",
       "      <td>Landfill_011_OSMv1</td>\n",
       "      <td></td>\n",
       "      <td></td>\n",
       "      <td></td>\n",
       "      <td></td>\n",
       "      <td>POINT(-127.141066013685 59.6409046932108)</td>\n",
       "    </tr>\n",
       "    <tr>\n",
       "      <th>2</th>\n",
       "      <td>181822</td>\n",
       "      <td>{\"coordinates\":[[[-133.2024993,62.2496553],[-1...</td>\n",
       "      <td>Open Street Map (downloaded by Michael: 101_os...</td>\n",
       "      <td>https://planet.openstreetmap.org/</td>\n",
       "      <td>Landfills</td>\n",
       "      <td>Landfill_011_OSMv1</td>\n",
       "      <td></td>\n",
       "      <td></td>\n",
       "      <td></td>\n",
       "      <td></td>\n",
       "      <td>POINT(-133.195612208946 62.2459385860452)</td>\n",
       "    </tr>\n",
       "    <tr>\n",
       "      <th>3</th>\n",
       "      <td>184905</td>\n",
       "      <td>{\"coordinates\":[[[-69.5450032,-25.1051077],[-6...</td>\n",
       "      <td>Open Street Map (downloaded by Michael: 101_os...</td>\n",
       "      <td>https://planet.openstreetmap.org/</td>\n",
       "      <td>Landfills</td>\n",
       "      <td>Landfill_011_OSMv1</td>\n",
       "      <td></td>\n",
       "      <td></td>\n",
       "      <td></td>\n",
       "      <td></td>\n",
       "      <td>POINT(-69.5440263575014 -25.1059938247881)</td>\n",
       "    </tr>\n",
       "    <tr>\n",
       "      <th>4</th>\n",
       "      <td>180844</td>\n",
       "      <td>{\"coordinates\":[[[-101.6614864,56.6244262],[-1...</td>\n",
       "      <td>Open Street Map (downloaded by Michael: 101_os...</td>\n",
       "      <td>https://planet.openstreetmap.org/</td>\n",
       "      <td>Landfills</td>\n",
       "      <td>Landfill_011_OSMv1</td>\n",
       "      <td></td>\n",
       "      <td></td>\n",
       "      <td></td>\n",
       "      <td></td>\n",
       "      <td>POINT(-101.659282264465 56.6208332839445)</td>\n",
       "    </tr>\n",
       "    <tr>\n",
       "      <th>...</th>\n",
       "      <td>...</td>\n",
       "      <td>...</td>\n",
       "      <td>...</td>\n",
       "      <td>...</td>\n",
       "      <td>...</td>\n",
       "      <td>...</td>\n",
       "      <td>...</td>\n",
       "      <td>...</td>\n",
       "      <td>...</td>\n",
       "      <td>...</td>\n",
       "      <td>...</td>\n",
       "    </tr>\n",
       "    <tr>\n",
       "      <th>38114</th>\n",
       "      <td>183980</td>\n",
       "      <td>{\"coordinates\":[[[-61.2294882,13.0150089],[-61...</td>\n",
       "      <td>Open Street Map (downloaded by Michael: 101_os...</td>\n",
       "      <td>https://planet.openstreetmap.org/</td>\n",
       "      <td>Landfills</td>\n",
       "      <td>Landfill_011_OSMv1</td>\n",
       "      <td></td>\n",
       "      <td></td>\n",
       "      <td>St Vincent and Grenadines</td>\n",
       "      <td>North America</td>\n",
       "      <td>POINT(-61.2289701903874 13.0152058155033)</td>\n",
       "    </tr>\n",
       "    <tr>\n",
       "      <th>38115</th>\n",
       "      <td>193975</td>\n",
       "      <td>{\"coordinates\":[[[138.1006504,9.5167501],[138....</td>\n",
       "      <td>Open Street Map (downloaded by Michael: 101_os...</td>\n",
       "      <td>https://planet.openstreetmap.org/</td>\n",
       "      <td>Landfills</td>\n",
       "      <td>Landfill_011_OSMv1</td>\n",
       "      <td>Worwoq</td>\n",
       "      <td>State of Yap</td>\n",
       "      <td>Federated States of Micronesia</td>\n",
       "      <td>Oceania</td>\n",
       "      <td>POINT(138.100725992949 9.51641215510502)</td>\n",
       "    </tr>\n",
       "    <tr>\n",
       "      <th>38116</th>\n",
       "      <td>184753</td>\n",
       "      <td>{\"coordinates\":[[[-68.3319831,12.259045],[-68....</td>\n",
       "      <td>Open Street Map (downloaded by Michael: 101_os...</td>\n",
       "      <td>https://planet.openstreetmap.org/</td>\n",
       "      <td>Landfills</td>\n",
       "      <td>Landfill_011_OSMv1</td>\n",
       "      <td></td>\n",
       "      <td></td>\n",
       "      <td>Bonaire, Sint Eustatius, and Saba</td>\n",
       "      <td>North America</td>\n",
       "      <td>POINT(-68.3321177672005 12.2583334050387)</td>\n",
       "    </tr>\n",
       "    <tr>\n",
       "      <th>38117</th>\n",
       "      <td>184748</td>\n",
       "      <td>{\"coordinates\":[[[-68.2283908,12.176514],[-68....</td>\n",
       "      <td>Open Street Map (downloaded by Michael: 101_os...</td>\n",
       "      <td>https://planet.openstreetmap.org/</td>\n",
       "      <td>Landfills</td>\n",
       "      <td>Landfill_011_OSMv1</td>\n",
       "      <td>Kralendijk</td>\n",
       "      <td>Bonaire</td>\n",
       "      <td>Bonaire, Sint Eustatius, and Saba</td>\n",
       "      <td>North America</td>\n",
       "      <td>POINT(-68.2274712300856 12.1757752860867)</td>\n",
       "    </tr>\n",
       "    <tr>\n",
       "      <th>38118</th>\n",
       "      <td>184073</td>\n",
       "      <td>{\"coordinates\":[[[-62.9766293,17.5020175],[-62...</td>\n",
       "      <td>Open Street Map (downloaded by Michael: 101_os...</td>\n",
       "      <td>https://planet.openstreetmap.org/</td>\n",
       "      <td>Landfills</td>\n",
       "      <td>Landfill_011_OSMv1</td>\n",
       "      <td>Oranjestad</td>\n",
       "      <td>Sint Eustatius</td>\n",
       "      <td>Bonaire, Sint Eustatius, and Saba</td>\n",
       "      <td>North America</td>\n",
       "      <td>POINT(-62.9759260031738 17.501526167421)</td>\n",
       "    </tr>\n",
       "  </tbody>\n",
       "</table>\n",
       "<p>38119 rows × 11 columns</p>\n",
       "</div>"
      ],
      "text/plain": [
       "        keyID                                          geography  \\\n",
       "0      189880  {\"coordinates\":[[[100.4982959,41.0905891],[100...   \n",
       "1      181798  {\"coordinates\":[[[-127.1405641,59.641265],[-12...   \n",
       "2      181822  {\"coordinates\":[[[-133.2024993,62.2496553],[-1...   \n",
       "3      184905  {\"coordinates\":[[[-69.5450032,-25.1051077],[-6...   \n",
       "4      180844  {\"coordinates\":[[[-101.6614864,56.6244262],[-1...   \n",
       "...       ...                                                ...   \n",
       "38114  183980  {\"coordinates\":[[[-61.2294882,13.0150089],[-61...   \n",
       "38115  193975  {\"coordinates\":[[[138.1006504,9.5167501],[138....   \n",
       "38116  184753  {\"coordinates\":[[[-68.3319831,12.259045],[-68....   \n",
       "38117  184748  {\"coordinates\":[[[-68.2283908,12.176514],[-68....   \n",
       "38118  184073  {\"coordinates\":[[[-62.9766293,17.5020175],[-62...   \n",
       "\n",
       "                                         SourceReference  \\\n",
       "0      Open Street Map (downloaded by Michael: 101_os...   \n",
       "1      Open Street Map (downloaded by Michael: 101_os...   \n",
       "2      Open Street Map (downloaded by Michael: 101_os...   \n",
       "3      Open Street Map (downloaded by Michael: 101_os...   \n",
       "4      Open Street Map (downloaded by Michael: 101_os...   \n",
       "...                                                  ...   \n",
       "38114  Open Street Map (downloaded by Michael: 101_os...   \n",
       "38115  Open Street Map (downloaded by Michael: 101_os...   \n",
       "38116  Open Street Map (downloaded by Michael: 101_os...   \n",
       "38117  Open Street Map (downloaded by Michael: 101_os...   \n",
       "38118  Open Street Map (downloaded by Michael: 101_os...   \n",
       "\n",
       "                                      SL   Facility              Source  \\\n",
       "0      https://planet.openstreetmap.org/  Landfills  Landfill_011_OSMv1   \n",
       "1      https://planet.openstreetmap.org/  Landfills  Landfill_011_OSMv1   \n",
       "2      https://planet.openstreetmap.org/  Landfills  Landfill_011_OSMv1   \n",
       "3      https://planet.openstreetmap.org/  Landfills  Landfill_011_OSMv1   \n",
       "4      https://planet.openstreetmap.org/  Landfills  Landfill_011_OSMv1   \n",
       "...                                  ...        ...                 ...   \n",
       "38114  https://planet.openstreetmap.org/  Landfills  Landfill_011_OSMv1   \n",
       "38115  https://planet.openstreetmap.org/  Landfills  Landfill_011_OSMv1   \n",
       "38116  https://planet.openstreetmap.org/  Landfills  Landfill_011_OSMv1   \n",
       "38117  https://planet.openstreetmap.org/  Landfills  Landfill_011_OSMv1   \n",
       "38118  https://planet.openstreetmap.org/  Landfills  Landfill_011_OSMv1   \n",
       "\n",
       "             City           State                            Country  \\\n",
       "0                                                                      \n",
       "1                                                                      \n",
       "2                                                                      \n",
       "3                                                                      \n",
       "4                                                                      \n",
       "...           ...             ...                                ...   \n",
       "38114                                      St Vincent and Grenadines   \n",
       "38115      Worwoq    State of Yap     Federated States of Micronesia   \n",
       "38116                              Bonaire, Sint Eustatius, and Saba   \n",
       "38117  Kralendijk         Bonaire  Bonaire, Sint Eustatius, and Saba   \n",
       "38118  Oranjestad  Sint Eustatius  Bonaire, Sint Eustatius, and Saba   \n",
       "\n",
       "              Region                                    geometry  \n",
       "0                       POINT(100.493678727011 41.0947383664426)  \n",
       "1                      POINT(-127.141066013685 59.6409046932108)  \n",
       "2                      POINT(-133.195612208946 62.2459385860452)  \n",
       "3                     POINT(-69.5440263575014 -25.1059938247881)  \n",
       "4                      POINT(-101.659282264465 56.6208332839445)  \n",
       "...              ...                                         ...  \n",
       "38114  North America   POINT(-61.2289701903874 13.0152058155033)  \n",
       "38115        Oceania    POINT(138.100725992949 9.51641215510502)  \n",
       "38116  North America   POINT(-68.3321177672005 12.2583334050387)  \n",
       "38117  North America   POINT(-68.2274712300856 12.1757752860867)  \n",
       "38118  North America    POINT(-62.9759260031738 17.501526167421)  \n",
       "\n",
       "[38119 rows x 11 columns]"
      ]
     },
     "execution_count": 4,
     "metadata": {},
     "output_type": "execute_result"
    }
   ],
   "source": [
    "df"
   ]
  },
  {
   "cell_type": "code",
   "execution_count": 5,
   "id": "d12f91e3-8c0c-4c0d-8e34-39ea380066e4",
   "metadata": {},
   "outputs": [],
   "source": [
    "# result = df[df['geometry'] == 'POINT(132 41.8333989766103)']\n",
    "# print(result)\n",
    "# result = df[df['keyID'] == 193816]\n",
    "# print(result)"
   ]
  },
  {
   "cell_type": "code",
   "execution_count": 6,
   "id": "680c3c1e-cba8-45c3-b2dc-a37c74407eb7",
   "metadata": {},
   "outputs": [],
   "source": [
    "df_test = df.iloc[:35000].copy()"
   ]
  },
  {
   "cell_type": "code",
   "execution_count": 7,
   "id": "ec300f0e-003c-4fcf-976a-1b53874f53f3",
   "metadata": {},
   "outputs": [
    {
     "data": {
      "text/html": [
       "<div>\n",
       "<style scoped>\n",
       "    .dataframe tbody tr th:only-of-type {\n",
       "        vertical-align: middle;\n",
       "    }\n",
       "\n",
       "    .dataframe tbody tr th {\n",
       "        vertical-align: top;\n",
       "    }\n",
       "\n",
       "    .dataframe thead th {\n",
       "        text-align: right;\n",
       "    }\n",
       "</style>\n",
       "<table border=\"1\" class=\"dataframe\">\n",
       "  <thead>\n",
       "    <tr style=\"text-align: right;\">\n",
       "      <th></th>\n",
       "      <th>keyID</th>\n",
       "      <th>geography</th>\n",
       "      <th>SourceReference</th>\n",
       "      <th>SL</th>\n",
       "      <th>Facility</th>\n",
       "      <th>Source</th>\n",
       "      <th>City</th>\n",
       "      <th>State</th>\n",
       "      <th>Country</th>\n",
       "      <th>Region</th>\n",
       "      <th>geometry</th>\n",
       "    </tr>\n",
       "  </thead>\n",
       "  <tbody>\n",
       "    <tr>\n",
       "      <th>0</th>\n",
       "      <td>189880</td>\n",
       "      <td>{\"coordinates\":[[[100.4982959,41.0905891],[100...</td>\n",
       "      <td>Open Street Map (downloaded by Michael: 101_os...</td>\n",
       "      <td>https://planet.openstreetmap.org/</td>\n",
       "      <td>Landfills</td>\n",
       "      <td>Landfill_011_OSMv1</td>\n",
       "      <td></td>\n",
       "      <td></td>\n",
       "      <td></td>\n",
       "      <td></td>\n",
       "      <td>POINT(100.493678727011 41.0947383664426)</td>\n",
       "    </tr>\n",
       "    <tr>\n",
       "      <th>1</th>\n",
       "      <td>181798</td>\n",
       "      <td>{\"coordinates\":[[[-127.1405641,59.641265],[-12...</td>\n",
       "      <td>Open Street Map (downloaded by Michael: 101_os...</td>\n",
       "      <td>https://planet.openstreetmap.org/</td>\n",
       "      <td>Landfills</td>\n",
       "      <td>Landfill_011_OSMv1</td>\n",
       "      <td></td>\n",
       "      <td></td>\n",
       "      <td></td>\n",
       "      <td></td>\n",
       "      <td>POINT(-127.141066013685 59.6409046932108)</td>\n",
       "    </tr>\n",
       "    <tr>\n",
       "      <th>2</th>\n",
       "      <td>181822</td>\n",
       "      <td>{\"coordinates\":[[[-133.2024993,62.2496553],[-1...</td>\n",
       "      <td>Open Street Map (downloaded by Michael: 101_os...</td>\n",
       "      <td>https://planet.openstreetmap.org/</td>\n",
       "      <td>Landfills</td>\n",
       "      <td>Landfill_011_OSMv1</td>\n",
       "      <td></td>\n",
       "      <td></td>\n",
       "      <td></td>\n",
       "      <td></td>\n",
       "      <td>POINT(-133.195612208946 62.2459385860452)</td>\n",
       "    </tr>\n",
       "    <tr>\n",
       "      <th>3</th>\n",
       "      <td>184905</td>\n",
       "      <td>{\"coordinates\":[[[-69.5450032,-25.1051077],[-6...</td>\n",
       "      <td>Open Street Map (downloaded by Michael: 101_os...</td>\n",
       "      <td>https://planet.openstreetmap.org/</td>\n",
       "      <td>Landfills</td>\n",
       "      <td>Landfill_011_OSMv1</td>\n",
       "      <td></td>\n",
       "      <td></td>\n",
       "      <td></td>\n",
       "      <td></td>\n",
       "      <td>POINT(-69.5440263575014 -25.1059938247881)</td>\n",
       "    </tr>\n",
       "    <tr>\n",
       "      <th>4</th>\n",
       "      <td>180844</td>\n",
       "      <td>{\"coordinates\":[[[-101.6614864,56.6244262],[-1...</td>\n",
       "      <td>Open Street Map (downloaded by Michael: 101_os...</td>\n",
       "      <td>https://planet.openstreetmap.org/</td>\n",
       "      <td>Landfills</td>\n",
       "      <td>Landfill_011_OSMv1</td>\n",
       "      <td></td>\n",
       "      <td></td>\n",
       "      <td></td>\n",
       "      <td></td>\n",
       "      <td>POINT(-101.659282264465 56.6208332839445)</td>\n",
       "    </tr>\n",
       "    <tr>\n",
       "      <th>...</th>\n",
       "      <td>...</td>\n",
       "      <td>...</td>\n",
       "      <td>...</td>\n",
       "      <td>...</td>\n",
       "      <td>...</td>\n",
       "      <td>...</td>\n",
       "      <td>...</td>\n",
       "      <td>...</td>\n",
       "      <td>...</td>\n",
       "      <td>...</td>\n",
       "      <td>...</td>\n",
       "    </tr>\n",
       "    <tr>\n",
       "      <th>34995</th>\n",
       "      <td>202436</td>\n",
       "      <td>{\"coordinates\":[[[30.979949,-29.7061882],[30.9...</td>\n",
       "      <td>Open Street Map (downloaded by Michael: 101_os...</td>\n",
       "      <td>https://planet.openstreetmap.org/</td>\n",
       "      <td>Landfills</td>\n",
       "      <td>Landfill_011_OSMv1</td>\n",
       "      <td>Phoenix</td>\n",
       "      <td>KwaZulu-Natal</td>\n",
       "      <td>South Africa</td>\n",
       "      <td>Africa</td>\n",
       "      <td>POINT(30.9802316963849 -29.7065465005256)</td>\n",
       "    </tr>\n",
       "    <tr>\n",
       "      <th>34996</th>\n",
       "      <td>202427</td>\n",
       "      <td>{\"coordinates\":[[[30.9780259,-29.7094262],[30....</td>\n",
       "      <td>Open Street Map (downloaded by Michael: 101_os...</td>\n",
       "      <td>https://planet.openstreetmap.org/</td>\n",
       "      <td>Landfills</td>\n",
       "      <td>Landfill_011_OSMv1</td>\n",
       "      <td>Phoenix</td>\n",
       "      <td>KwaZulu-Natal</td>\n",
       "      <td>South Africa</td>\n",
       "      <td>Africa</td>\n",
       "      <td>POINT(30.9781422884262 -29.7094481989595)</td>\n",
       "    </tr>\n",
       "    <tr>\n",
       "      <th>34997</th>\n",
       "      <td>202515</td>\n",
       "      <td>{\"coordinates\":[[[30.988065,-29.6946585],[30.9...</td>\n",
       "      <td>Open Street Map (downloaded by Michael: 101_os...</td>\n",
       "      <td>https://planet.openstreetmap.org/</td>\n",
       "      <td>Landfills</td>\n",
       "      <td>Landfill_011_OSMv1</td>\n",
       "      <td>Phoenix</td>\n",
       "      <td>KwaZulu-Natal</td>\n",
       "      <td>South Africa</td>\n",
       "      <td>Africa</td>\n",
       "      <td>POINT(30.9883479856741 -29.6945737408189)</td>\n",
       "    </tr>\n",
       "    <tr>\n",
       "      <th>34998</th>\n",
       "      <td>202746</td>\n",
       "      <td>{\"coordinates\":[[[31.0312556,-29.6895545],[31....</td>\n",
       "      <td>Open Street Map (downloaded by Michael: 101_os...</td>\n",
       "      <td>https://planet.openstreetmap.org/</td>\n",
       "      <td>Landfills</td>\n",
       "      <td>Landfill_011_OSMv1</td>\n",
       "      <td>Phoenix</td>\n",
       "      <td>KwaZulu-Natal</td>\n",
       "      <td>South Africa</td>\n",
       "      <td>Africa</td>\n",
       "      <td>POINT(31.0312814463586 -29.6896361565823)</td>\n",
       "    </tr>\n",
       "    <tr>\n",
       "      <th>34999</th>\n",
       "      <td>202751</td>\n",
       "      <td>{\"coordinates\":[[[31.0378889,-29.6469732],[31....</td>\n",
       "      <td>Open Street Map (downloaded by Michael: 101_os...</td>\n",
       "      <td>https://planet.openstreetmap.org/</td>\n",
       "      <td>Landfills</td>\n",
       "      <td>Landfill_011_OSMv1</td>\n",
       "      <td>Verulam</td>\n",
       "      <td>KwaZulu-Natal</td>\n",
       "      <td>South Africa</td>\n",
       "      <td>Africa</td>\n",
       "      <td>POINT(31.0379030686949 -29.6470255496095)</td>\n",
       "    </tr>\n",
       "  </tbody>\n",
       "</table>\n",
       "<p>35000 rows × 11 columns</p>\n",
       "</div>"
      ],
      "text/plain": [
       "        keyID                                          geography  \\\n",
       "0      189880  {\"coordinates\":[[[100.4982959,41.0905891],[100...   \n",
       "1      181798  {\"coordinates\":[[[-127.1405641,59.641265],[-12...   \n",
       "2      181822  {\"coordinates\":[[[-133.2024993,62.2496553],[-1...   \n",
       "3      184905  {\"coordinates\":[[[-69.5450032,-25.1051077],[-6...   \n",
       "4      180844  {\"coordinates\":[[[-101.6614864,56.6244262],[-1...   \n",
       "...       ...                                                ...   \n",
       "34995  202436  {\"coordinates\":[[[30.979949,-29.7061882],[30.9...   \n",
       "34996  202427  {\"coordinates\":[[[30.9780259,-29.7094262],[30....   \n",
       "34997  202515  {\"coordinates\":[[[30.988065,-29.6946585],[30.9...   \n",
       "34998  202746  {\"coordinates\":[[[31.0312556,-29.6895545],[31....   \n",
       "34999  202751  {\"coordinates\":[[[31.0378889,-29.6469732],[31....   \n",
       "\n",
       "                                         SourceReference  \\\n",
       "0      Open Street Map (downloaded by Michael: 101_os...   \n",
       "1      Open Street Map (downloaded by Michael: 101_os...   \n",
       "2      Open Street Map (downloaded by Michael: 101_os...   \n",
       "3      Open Street Map (downloaded by Michael: 101_os...   \n",
       "4      Open Street Map (downloaded by Michael: 101_os...   \n",
       "...                                                  ...   \n",
       "34995  Open Street Map (downloaded by Michael: 101_os...   \n",
       "34996  Open Street Map (downloaded by Michael: 101_os...   \n",
       "34997  Open Street Map (downloaded by Michael: 101_os...   \n",
       "34998  Open Street Map (downloaded by Michael: 101_os...   \n",
       "34999  Open Street Map (downloaded by Michael: 101_os...   \n",
       "\n",
       "                                      SL   Facility              Source  \\\n",
       "0      https://planet.openstreetmap.org/  Landfills  Landfill_011_OSMv1   \n",
       "1      https://planet.openstreetmap.org/  Landfills  Landfill_011_OSMv1   \n",
       "2      https://planet.openstreetmap.org/  Landfills  Landfill_011_OSMv1   \n",
       "3      https://planet.openstreetmap.org/  Landfills  Landfill_011_OSMv1   \n",
       "4      https://planet.openstreetmap.org/  Landfills  Landfill_011_OSMv1   \n",
       "...                                  ...        ...                 ...   \n",
       "34995  https://planet.openstreetmap.org/  Landfills  Landfill_011_OSMv1   \n",
       "34996  https://planet.openstreetmap.org/  Landfills  Landfill_011_OSMv1   \n",
       "34997  https://planet.openstreetmap.org/  Landfills  Landfill_011_OSMv1   \n",
       "34998  https://planet.openstreetmap.org/  Landfills  Landfill_011_OSMv1   \n",
       "34999  https://planet.openstreetmap.org/  Landfills  Landfill_011_OSMv1   \n",
       "\n",
       "          City          State       Country  Region  \\\n",
       "0                                                     \n",
       "1                                                     \n",
       "2                                                     \n",
       "3                                                     \n",
       "4                                                     \n",
       "...        ...            ...           ...     ...   \n",
       "34995  Phoenix  KwaZulu-Natal  South Africa  Africa   \n",
       "34996  Phoenix  KwaZulu-Natal  South Africa  Africa   \n",
       "34997  Phoenix  KwaZulu-Natal  South Africa  Africa   \n",
       "34998  Phoenix  KwaZulu-Natal  South Africa  Africa   \n",
       "34999  Verulam  KwaZulu-Natal  South Africa  Africa   \n",
       "\n",
       "                                         geometry  \n",
       "0        POINT(100.493678727011 41.0947383664426)  \n",
       "1       POINT(-127.141066013685 59.6409046932108)  \n",
       "2       POINT(-133.195612208946 62.2459385860452)  \n",
       "3      POINT(-69.5440263575014 -25.1059938247881)  \n",
       "4       POINT(-101.659282264465 56.6208332839445)  \n",
       "...                                           ...  \n",
       "34995   POINT(30.9802316963849 -29.7065465005256)  \n",
       "34996   POINT(30.9781422884262 -29.7094481989595)  \n",
       "34997   POINT(30.9883479856741 -29.6945737408189)  \n",
       "34998   POINT(31.0312814463586 -29.6896361565823)  \n",
       "34999   POINT(31.0379030686949 -29.6470255496095)  \n",
       "\n",
       "[35000 rows x 11 columns]"
      ]
     },
     "execution_count": 7,
     "metadata": {},
     "output_type": "execute_result"
    }
   ],
   "source": [
    "df_test"
   ]
  },
  {
   "cell_type": "markdown",
   "id": "911bb5e3-765a-4a1a-a583-eddb9ced8f59",
   "metadata": {
    "tags": []
   },
   "source": [
    "## Download the satellite image from Bing Maps"
   ]
  },
  {
   "cell_type": "code",
   "execution_count": 8,
   "id": "65b97583-4780-4266-bdab-5c3a88c92134",
   "metadata": {},
   "outputs": [],
   "source": [
    "path=\"satellite_images/train/\""
   ]
  },
  {
   "cell_type": "code",
   "execution_count": 9,
   "id": "c8e96f9c-8a9f-423b-8db9-61a9b5b0ab74",
   "metadata": {},
   "outputs": [],
   "source": [
    "zoom_level=17\n",
    "img_width=256\n",
    "img_height=256"
   ]
  },
  {
   "cell_type": "code",
   "execution_count": 10,
   "id": "a2dc68af-80a8-4d9c-83a1-ef4cda66cfa9",
   "metadata": {},
   "outputs": [],
   "source": [
    "bing_maps_key = \"AkSkwnwR0ZjzreT0mW9x70F7lOloEOAE6vUvJdJB2uX8ruQgcvOcPXm7bg4j5_gr\""
   ]
  },
  {
   "cell_type": "code",
   "execution_count": 11,
   "id": "129bb062-ce24-4d70-9056-fd07651fa953",
   "metadata": {},
   "outputs": [],
   "source": [
    "import requests\n",
    "\n",
    "def save_satellite_image(latitude, longitude, path, zoom_level=zoom_level, img_width=img_width, img_height=img_height, api_key=bing_maps_key):\n",
    "    \n",
    "    \"\"\"\n",
    "    Download satellite image from Bing Maps.\n",
    "\n",
    "    Parameters:\n",
    "    - latitude (float): Latitude of the center of the image.\n",
    "    - longitude (float): Longitude of the center of the image.\n",
    "    - zoom_level (int): Zoom level of the image (from 1 to 19).\n",
    "    - bing_maps_key (str): Your Bing Maps API key.\n",
    "    - save_path (str): Path to save the image.\n",
    "\n",
    "    Returns:\n",
    "    None\n",
    "    \n",
    "    Reference:\n",
    "    https://learn.microsoft.com/en-us/bingmaps/rest-services/imagery/get-a-static-map\n",
    "    \"\"\"\n",
    "    \n",
    "    # Endpoint URL\n",
    "    endpoint_url = \"https://dev.virtualearth.net/REST/v1/Imagery/Map/Aerial/\"\n",
    "\n",
    "    # Form the URL\n",
    "    url = f\"{endpoint_url}{latitude},{longitude}/{zoom_level}?mapSize={img_width},{img_height}&64&format=png&key={api_key}\" \n",
    "\n",
    "    # Make the request\n",
    "    response = requests.get(url)\n",
    "\n",
    "    # Check if the request was successful\n",
    "    if response.status_code == 200:\n",
    "        with open(path, 'wb') as f:\n",
    "            f.write(response.content)\n",
    "    else:\n",
    "        print(f\"Error: {response.status_code}. Check your API key and query.\")"
   ]
  },
  {
   "cell_type": "code",
   "execution_count": 12,
   "id": "f903139d-d15a-4889-8907-9349b13a5d7b",
   "metadata": {},
   "outputs": [],
   "source": [
    "def get_coordinate(point):\n",
    "    # Remove the \"POINT(\" prefix and the \")\" suffix\n",
    "    stripped_point = point.replace(\"POINT(\", \"\").replace(\")\", \"\")\n",
    "    \n",
    "    # Split the string into y and x parts\n",
    "    y_str, x_str = stripped_point.split()\n",
    "        \n",
    "    # Convert the string representations to float\n",
    "    y_float, x_float = float(y_str), float(x_str)\n",
    "    \n",
    "    return y_float, x_float"
   ]
  },
  {
   "cell_type": "code",
   "execution_count": 13,
   "id": "b4ad60c4-6f69-4c7e-8afb-186cdb0958ea",
   "metadata": {},
   "outputs": [],
   "source": [
    "def download_satellite_image(row):\n",
    "    # Get the central coordinate\n",
    "    point = row['geometry']\n",
    "    y, x = get_coordinate(point)  # Assuming this function returns longitude (x) and latitude (y)\n",
    "    \n",
    "    # Create and save satellite images in png format\n",
    "    image_path = path + f\"png/{y}_{x}.png\"\n",
    "    save_satellite_image(x, y, image_path)"
   ]
  },
  {
   "cell_type": "code",
   "execution_count": 14,
   "id": "04ee2281-3d3f-4abb-847e-2a0408ec4111",
   "metadata": {},
   "outputs": [],
   "source": [
    "# df_test.apply(download_satellite_image, axis=1)"
   ]
  },
  {
   "cell_type": "code",
   "execution_count": 15,
   "id": "ccf126a1-86c2-47cf-80c0-27689e0b0da7",
   "metadata": {},
   "outputs": [
    {
     "name": "stdout",
     "output_type": "stream",
     "text": [
      "35000\n"
     ]
    }
   ],
   "source": [
    "# Count files in a folder\n",
    "def count_files(directory_path):\n",
    "    files = [f for f in os.listdir(directory_path) if os.path.isfile(os.path.join(directory_path, f))]\n",
    "    return len(files)\n",
    "\n",
    "directory_path = 'satellite_images/train/png'  # Replace with your directory path\n",
    "print(count_files(directory_path))"
   ]
  },
  {
   "cell_type": "markdown",
   "id": "af439b62-216d-45e5-a54d-d2c53cc4fffe",
   "metadata": {
    "tags": []
   },
   "source": [
    "## Convert satellite imags from png files to geo tiff files with a single band"
   ]
  },
  {
   "cell_type": "code",
   "execution_count": 16,
   "id": "fd8d0a61-3eee-4da5-9856-8667afefb5b9",
   "metadata": {},
   "outputs": [],
   "source": [
    "def calculate_bounding_box(latitude, longitude, zoom_level, img_width, img_height):\n",
    "    # Calculate the change in degrees for the given image dimensions and zoom level\n",
    "    change_in_degrees_lon = (360 / (256 * 2**zoom_level)) * img_width\n",
    "    change_in_degrees_lat = (360 / (256 * 2**zoom_level)) * img_height / math.cos(math.radians(latitude))\n",
    "    \n",
    "    # Calculate the bounding box\n",
    "    upper_left_x = longitude - change_in_degrees_lon / 2\n",
    "    upper_left_y = latitude + change_in_degrees_lat / 2\n",
    "    lower_right_x = longitude + change_in_degrees_lon / 2\n",
    "    lower_right_y = latitude - change_in_degrees_lat / 2\n",
    "    \n",
    "    return upper_left_x, upper_left_y, lower_right_x, lower_right_y"
   ]
  },
  {
   "cell_type": "code",
   "execution_count": 17,
   "id": "90b5e390-a482-494b-8b99-d4b4e8a91600",
   "metadata": {},
   "outputs": [],
   "source": [
    "import warnings\n",
    "from rasterio.transform import from_bounds\n",
    "from rasterio.crs import CRS\n",
    "from rasterio.errors import NotGeoreferencedWarning\n",
    "\n",
    "def png_to_geotiff(input_path, output_path, bounding_box):\n",
    "    # Suppress the NotGeoreferencedWarning\n",
    "    with warnings.catch_warnings():\n",
    "        warnings.filterwarnings(\"ignore\", category=NotGeoreferencedWarning)\n",
    "\n",
    "        # Extract bounding box\n",
    "        upper_left_x, upper_left_y, lower_right_x, lower_right_y = bounding_box\n",
    "\n",
    "        # Define the geospatial transform and coordinate system\n",
    "        transform = from_bounds(upper_left_x, lower_right_y, lower_right_x, upper_left_y, img_width, img_height)\n",
    "        crs = CRS.from_epsg(4326)  # Assuming WGS84\n",
    "\n",
    "        # Read the PNG image\n",
    "        with rasterio.open(input_path, 'r') as src:\n",
    "            img_data = src.read()\n",
    "            # print(\"original: \"+str(img_data.shape))\n",
    "\n",
    "            # Check if the image is RGB\n",
    "            if img_data.shape[0] == 3:\n",
    "                # Convert to grayscale using the luminosity method\n",
    "                grayscale = 0.299 * img_data[0] + 0.587 * img_data[1] + 0.114 * img_data[2]\n",
    "                grayscale = np.expand_dims(grayscale, axis=0)\n",
    "            else:\n",
    "                # If the image is already grayscale, use it directly\n",
    "                grayscale = img_data   \n",
    "            \n",
    "            # print(\"converted: \"+str(grayscale.shape)) \n",
    "            \n",
    "            # Create a new GeoTIFF file with the grayscale data, transform, and CRS\n",
    "            with rasterio.open(output_path, 'w', driver='GTiff', \n",
    "                               width=src.width, height=src.height,\n",
    "                               count=1, dtype=grayscale.dtype,\n",
    "                               transform=transform, crs=crs) as dst:\n",
    "                dst.write(grayscale)"
   ]
  },
  {
   "cell_type": "code",
   "execution_count": 18,
   "id": "3e37e517-99d5-490f-a713-49807882b06f",
   "metadata": {},
   "outputs": [],
   "source": [
    "def convert_png_to_geotiff(row):\n",
    "    # Get the central coordinate\n",
    "    point = row['geometry']\n",
    "    y, x = get_coordinate(point)  # Assuming this function returns longitude (y) and latitude (x)\n",
    "    \n",
    "    #Creat the bouding box for each coordinate\n",
    "    latitude = x\n",
    "    longitude = y\n",
    "    bounding_box = calculate_bounding_box(latitude, longitude, zoom_level, img_width=img_width, img_height=img_height)\n",
    "    \n",
    "    # Convert and save satellite images in geotiff format\n",
    "    input_path = path + f\"png/{y}_{x}.png\"\n",
    "    output_path = path + f\"image/{y}_{x}.tif\"\n",
    "    png_to_geotiff(input_path, output_path, bounding_box)"
   ]
  },
  {
   "cell_type": "code",
   "execution_count": 19,
   "id": "d9994494-1640-4417-a7c0-51e7ffb6982b",
   "metadata": {},
   "outputs": [],
   "source": [
    "# df_test.apply(convert_png_to_geotiff, axis=1)"
   ]
  },
  {
   "cell_type": "markdown",
   "id": "d5d6acc5-215f-4494-9653-3acc4561daa9",
   "metadata": {
    "tags": []
   },
   "source": [
    "## Generate masks for landfills"
   ]
  },
  {
   "cell_type": "code",
   "execution_count": 20,
   "id": "70644a19-1b98-451d-a9c3-c9a56082cf73",
   "metadata": {},
   "outputs": [],
   "source": [
    "from shapely.geometry import shape\n",
    "from rasterio.features import rasterize\n",
    "\n",
    "def generate_mask(row):\n",
    "    # Get the central coordinate\n",
    "    point = row['geometry']\n",
    "    y, x = get_coordinate(point)  # Assuming this function returns longitude (y) and latitude (x)\n",
    "    \n",
    "    # Parse JSON\n",
    "    json_data = row['geography']\n",
    "    \n",
    "    # Create Polygon\n",
    "    data = json.loads(json_data)\n",
    "    polygon = shape(data)\n",
    "    \n",
    "    # Define the Raster's Extent and Resolution\n",
    "    bounds = polygon.bounds\n",
    "    transform = rasterio.transform.from_bounds(bounds[0], bounds[1], bounds[2], bounds[3], 256, 256)\n",
    "    \n",
    "    # Rasterize the Polygon\n",
    "    mask = rasterize([(polygon, 1)], out_shape=(256, 256), transform=transform, fill=0, all_touched=True, dtype=rasterio.uint8)\n",
    "   \n",
    "    # Save as GeoTIFF\n",
    "    mask_path = path + f\"mask/{y}_{x}.tif\"\n",
    "    with rasterio.open(mask_path, 'w', driver='GTiff', width=img_width, height=img_height, count=1, dtype=mask.dtype, crs=\"EPSG:4326\", transform=transform) as dst:\n",
    "        dst.write(mask, 1)"
   ]
  },
  {
   "cell_type": "code",
   "execution_count": 21,
   "id": "f7444b7d-a5dc-4d2a-b3d4-8996ae9d04be",
   "metadata": {},
   "outputs": [],
   "source": [
    "# df_test.apply(generate_mask, axis=1)"
   ]
  },
  {
   "cell_type": "markdown",
   "id": "d9067691-5a04-4e4b-8c02-71296409a5ee",
   "metadata": {
    "tags": []
   },
   "source": [
    "## Visualize satellite images and their masks"
   ]
  },
  {
   "cell_type": "code",
   "execution_count": 22,
   "id": "991b1cf2-ff68-4891-929b-ff053e7e20d4",
   "metadata": {},
   "outputs": [],
   "source": [
    "def plot_tiff(path):\n",
    "    import matplotlib.pyplot as plt\n",
    "\n",
    "    # Open the GeoTIFF file\n",
    "    with rasterio.open(path) as src:\n",
    "        img = src.read(1)  # Read the first band (or adjust as needed)\n",
    "\n",
    "    plt.imshow(img, cmap='gray')  # Use appropriate colormap if not grayscale\n",
    "    plt.colorbar()\n",
    "    plt.show()"
   ]
  },
  {
   "cell_type": "code",
   "execution_count": 23,
   "id": "63e89460-7231-4d5e-8872-03a55abf5a9e",
   "metadata": {},
   "outputs": [],
   "source": [
    "def show_image_mask(df, row_number):\n",
    "    # Get the central coordinate\n",
    "    df1 = df.iloc[row_number]\n",
    "    point = df1['geometry']\n",
    "    y, x = get_coordinate(point)  # Assuming this function returns longitude (y) and latitude (x)\n",
    "    \n",
    "    # Plot image and its mask\n",
    "    plot_tiff(path + f\"image/{y}_{x}.tif\")\n",
    "    plot_tiff(path + f\"mask/{y}_{x}.tif\")  "
   ]
  },
  {
   "cell_type": "code",
   "execution_count": 24,
   "id": "931e5531-c3d2-433f-96eb-156ab4817ddc",
   "metadata": {},
   "outputs": [
    {
     "data": {
      "image/png": "[encoded data removed]",
      "text/plain": [
       "<Figure size 640x480 with 2 Axes>"
      ]
     },
     "metadata": {},
     "output_type": "display_data"
    },
    {
     "data": {
      "image/png": "[encoded data removed]",
      "text/plain": [
       "<Figure size 640x480 with 2 Axes>"
      ]
     },
     "metadata": {},
     "output_type": "display_data"
    }
   ],
   "source": [
    "show_image_mask(df=df_test, row_number=30000)"
   ]
  },
  {
   "cell_type": "markdown",
   "id": "8f230f55-7512-4e9d-906c-e578b2445881",
   "metadata": {
    "tags": []
   },
   "source": [
    "## Combine geo tiff files into geo tiff stack files"
   ]
  },
  {
   "cell_type": "code",
   "execution_count": 25,
   "id": "b6c8c900-af3f-4b32-9a6d-b75a764a3667",
   "metadata": {},
   "outputs": [],
   "source": [
    "def stack_geotiffs(input_folder, output_file):\n",
    "    # List all files in the input folder\n",
    "    files = [os.path.join(input_folder, f) for f in os.listdir(input_folder) if f.endswith('.tif')]\n",
    "\n",
    "    # # Ensure you're working with the expected number of files\n",
    "    # if len(files) != 500:\n",
    "    #     raise ValueError(f\"Expected 100 files, but found {len(files)} files.\")\n",
    "\n",
    "    # Read each GeoTIFF file into a list and extract metadata\n",
    "    images = []\n",
    "    with rasterio.open(files[0]) as src:\n",
    "        meta = src.meta\n",
    "\n",
    "    for file in files:\n",
    "        with rasterio.open(file) as src:\n",
    "            images.append(src.read(1))  # Assuming single band images\n",
    "\n",
    "    # Stack the images along a new dimension\n",
    "    stacked_images = np.stack(images, axis=0)\n",
    "\n",
    "    # # Ensure the stacked shape is as expected\n",
    "    # if stacked_images.shape != (500, 256, 256):\n",
    "    #     raise ValueError(f\"Unexpected stacked shape: {stacked_images.shape}\")\n",
    "\n",
    "    # Update the metadata for the stacked image\n",
    "    meta.update({\n",
    "        \"count\": len(files),\n",
    "        \"dtype\": stacked_images.dtype\n",
    "    })\n",
    "\n",
    "    # Write the stacked images and metadata using rasterio\n",
    "    with rasterio.open(output_file, 'w', **meta) as dst:\n",
    "        for idx, layer in enumerate(stacked_images, start=1):\n",
    "            dst.write(layer, idx)"
   ]
  },
  {
   "cell_type": "code",
   "execution_count": 26,
   "id": "6356f884-2f51-47bc-9b9b-8e129d4f0cca",
   "metadata": {},
   "outputs": [],
   "source": [
    "stack_geotiffs(path+\"image\", path+\"stack/images.tif\")"
   ]
  },
  {
   "cell_type": "code",
   "execution_count": 27,
   "id": "429de0bb-244e-4b73-b9c9-33f1c22d736a",
   "metadata": {},
   "outputs": [],
   "source": [
    "stack_geotiffs(path+\"mask\", path+\"stack/masks.tif\")"
   ]
  },
  {
   "cell_type": "markdown",
   "id": "b5ab14f2-f7ac-4c63-84a0-ba7a0c3c87f4",
   "metadata": {},
   "source": [
    "## Check the stacked geo tiff file's information"
   ]
  },
  {
   "cell_type": "code",
   "execution_count": 28,
   "id": "7bd22772-e6bf-4f13-bd20-e20839f68a06",
   "metadata": {},
   "outputs": [],
   "source": [
    "def read_tiff_info(file_path):\n",
    "    with rasterio.open(file_path) as src:\n",
    "        # Get the shape of the GeoTIFF\n",
    "        height, width = src.shape\n",
    "        data = src.read()\n",
    "        \n",
    "        # Extract geospatial metadata\n",
    "        transform = src.transform\n",
    "        crs = src.crs\n",
    "        bounds = src.bounds\n",
    "        nodata = src.nodata\n",
    "        count = src.count  # number of bands/layers\n",
    "        \n",
    "        # Print the information\n",
    "        print(data.shape)\n",
    "        print(f\"Shape: {height} x {width}\")\n",
    "        print(f\"Number of Bands: {count}\")\n",
    "        print(f\"Transform: {transform}\")\n",
    "        print(f\"CRS: {crs}\")\n",
    "        print(f\"Bounds: {bounds}\")\n",
    "        print(f\"NoData Value: {nodata}\")"
   ]
  },
  {
   "cell_type": "code",
   "execution_count": 29,
   "id": "10063a05-ae9f-400d-b7a8-7e0c3b320f74",
   "metadata": {},
   "outputs": [
    {
     "name": "stdout",
     "output_type": "stream",
     "text": [
      "(35000, 256, 256)\n",
      "Shape: 256 x 256\n",
      "Number of Bands: 35000\n",
      "Transform: | 0.00, 0.00, 49.84|\n",
      "| 0.00,-0.00, 30.69|\n",
      "| 0.00, 0.00, 1.00|\n",
      "CRS: EPSG:4326\n",
      "Bounds: BoundingBox(left=49.841429784453275, bottom=30.687919441957273, right=49.844176366484525, top=30.69111334375533)\n",
      "NoData Value: None\n"
     ]
    }
   ],
   "source": [
    "read_tiff_info(path+\"stack/images.tif\")"
   ]
  },
  {
   "cell_type": "code",
   "execution_count": 30,
   "id": "2b0ebdf5-33b0-4ce1-9a8e-a8755d5627aa",
   "metadata": {},
   "outputs": [
    {
     "name": "stdout",
     "output_type": "stream",
     "text": [
      "(35000, 256, 256)\n",
      "Shape: 256 x 256\n",
      "Number of Bands: 35000\n",
      "Transform: | 0.00, 0.00, 49.84|\n",
      "| 0.00,-0.00, 30.69|\n",
      "| 0.00, 0.00, 1.00|\n",
      "CRS: EPSG:4326\n",
      "Bounds: BoundingBox(left=49.8425969, bottom=30.6894035, right=49.8429885, top=30.6896272)\n",
      "NoData Value: None\n"
     ]
    }
   ],
   "source": [
    "read_tiff_info(path+\"stack/masks.tif\")"
   ]
  },
  {
   "cell_type": "markdown",
   "id": "56ffa6d2-f8ce-4791-92b0-d28e8dfde597",
   "metadata": {},
   "source": [
    "## Upload Files to the Google Cloud Bucket"
   ]
  },
  {
   "cell_type": "code",
   "execution_count": 31,
   "id": "b3b9024e-996a-4761-9ac2-88ab1b4393e5",
   "metadata": {},
   "outputs": [
    {
     "name": "stdout",
     "output_type": "stream",
     "text": [
      "Copying file://satellite_images/train//stack/images.tif [Content-Type=image/tiff]...\n",
      "Copying file://satellite_images/train//stack/masks.tif [Content-Type=image/tiff]...\n",
      "==> NOTE: You are uploading one or more large file(s), which would run          \n",
      "significantly faster if you enable parallel composite uploads. This\n",
      "feature can be enabled by editing the\n",
      "\"parallel_composite_upload_threshold\" value in your .boto\n",
      "configuration file. However, note that if you do this large files will\n",
      "be uploaded as `composite objects\n",
      "<https://cloud.google.com/storage/docs/composite-objects>`_,which\n",
      "means that any user who downloads such objects will need to have a\n",
      "compiled crcmod installed (see \"gsutil help crcmod\"). This is because\n",
      "without a compiled crcmod, computing checksums on composite objects is\n",
      "so slow that gsutil disables downloads of composite objects.\n",
      "\n",
      "\\ [2/2 files][ 19.2 GiB/ 19.2 GiB] 100% Done  53.5 MiB/s ETA 00:00:00           \n",
      "Operation completed over 2 objects/19.2 GiB.                                     \n"
     ]
    }
   ],
   "source": [
    "# !gsutil -m cp -r {path+'/stack'} gs://meter-sam/train"
   ]
  },
  {
   "cell_type": "code",
   "execution_count": 1,
   "id": "3cfcdb12-936d-4fad-bc33-000fd18d6cdc",
   "metadata": {},
   "outputs": [],
   "source": [
    "# !gsutil -m cp -r {path+'/image'} gs://meter-sam/train"
   ]
  },
  {
   "cell_type": "code",
   "execution_count": 2,
   "id": "bc9ecc69-5bfd-4dbb-8562-764e72ad2db6",
   "metadata": {},
   "outputs": [],
   "source": [
    "# !gsutil -m cp -r {path+'/mask'} gs://meter-sam/train"
   ]
  },
  {
   "cell_type": "code",
   "execution_count": 3,
   "id": "701716ab-f9c8-45be-9ce6-6559239a0075",
   "metadata": {},
   "outputs": [],
   "source": [
    "# !gsutil -m cp -r {path+'/png'} gs://meter-sam/train"
   ]
  },
  {
   "cell_type": "code",
   "execution_count": 6,
   "id": "d15b0bc1-7024-498e-86cb-2fc1c59f47cd",
   "metadata": {},
   "outputs": [
    {
     "name": "stdout",
     "output_type": "stream",
     "text": [
      "'01_prepare datasets.ipynb'   03_SAM_Vertex_AI.ipynb   05_SAM_train_GC.ipynb\n",
      " 02_fine_tune_SAM.ipynb       04_Validation.ipynb\n"
     ]
    }
   ],
   "source": [
    "ls"
   ]
  },
  {
   "cell_type": "code",
   "execution_count": 7,
   "id": "b9158323-79d5-4f74-9603-fd48af680c6b",
   "metadata": {},
   "outputs": [
    {
     "name": "stdout",
     "output_type": "stream",
     "text": [
      "CommandException: No URLs matched: script\n",
      "CommandException: 1 file/object could not be transferred.\n"
     ]
    }
   ],
   "source": [
    "!gsutil -m cp -r script gs://meter-sam"
   ]
  },
  {
   "cell_type": "code",
   "execution_count": null,
   "id": "ec835cda-1160-4deb-974c-82671aec58e3",
   "metadata": {},
   "outputs": [],
   "source": []
  }
 ],
 "metadata": {
  "kernelspec": {
   "display_name": "PyTorch 1.13 (Local)",
   "language": "python",
   "name": "local-pytorch-1-13"
  },
  "language_info": {
   "codemirror_mode": {
    "name": "ipython",
    "version": 3
   },
   "file_extension": ".py",
   "mimetype": "text/x-python",
   "name": "python",
   "nbconvert_exporter": "python",
   "pygments_lexer": "ipython3",
   "version": "3.10.12"
  }
 },
 "nbformat": 4,
 "nbformat_minor": 5
}
